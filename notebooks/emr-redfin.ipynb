{
 "cells": [
  {
   "cell_type": "code",
   "execution_count": 2,
   "id": "bc4dd94d-bf55-4a36-90b7-1d5890357f45",
   "metadata": {
    "execution": {
     "iopub.execute_input": "2025-03-29T19:19:15.420647Z",
     "iopub.status.busy": "2025-03-29T19:19:15.420347Z",
     "iopub.status.idle": "2025-03-29T19:19:56.273031Z",
     "shell.execute_reply": "2025-03-29T19:19:56.272173Z",
     "shell.execute_reply.started": "2025-03-29T19:19:15.420621Z"
    }
   },
   "outputs": [
    {
     "data": {
      "application/vnd.jupyter.widget-view+json": {
       "model_id": "24c30b09a09c42acafc8f13a045525d6",
       "version_major": 2,
       "version_minor": 0
      },
      "text/plain": [
       "VBox()"
      ]
     },
     "metadata": {},
     "output_type": "display_data"
    },
    {
     "name": "stdout",
     "output_type": "stream",
     "text": [
      "Starting Spark application\n"
     ]
    },
    {
     "data": {
      "text/html": [
       "<table>\n<tbody><tr><th>ID</th><th>YARN Application ID</th><th>Kind</th><th>State</th><th>Spark UI</th><th>Driver log</th><th>User</th><th>Current session?</th></tr><tr><td>1</td><td>application_1743275365915_0002</td><td>pyspark</td><td>idle</td><td><a target=\"_blank\" href=\"http://ip-10-0-24-242.ec2.internal:20888/proxy/application_1743275365915_0002/\" class=\"emr-proxy-link j-2C9FMNUXG5P09 application_1743275365915_0002\" emr-resource=\"j-2C9FMNUXG5P09\n\" application-id=\"application_1743275365915_0002\">Link</a></td><td><a target=\"_blank\" href=\"http://ip-10-0-30-141.ec2.internal:8042/node/containerlogs/container_1743275365915_0002_01_000001/livy\">Link</a></td><td>None</td><td>✔</td></tr></tbody></table>"
      ],
      "text/plain": [
       "<IPython.core.display.HTML object>"
      ]
     },
     "metadata": {},
     "output_type": "display_data"
    },
    {
     "data": {
      "application/vnd.jupyter.widget-view+json": {
       "model_id": "",
       "version_major": 2,
       "version_minor": 0
      },
      "text/plain": [
       "FloatProgress(value=0.0, bar_style='info', description='Progress:', layout=Layout(height='25px', width='50%'),…"
      ]
     },
     "metadata": {},
     "output_type": "display_data"
    },
    {
     "name": "stdout",
     "output_type": "stream",
     "text": [
      "SparkSession available as 'spark'.\n"
     ]
    },
    {
     "data": {
      "application/vnd.jupyter.widget-view+json": {
       "model_id": "",
       "version_major": 2,
       "version_minor": 0
      },
      "text/plain": [
       "FloatProgress(value=0.0, bar_style='info', description='Progress:', layout=Layout(height='25px', width='50%'),…"
      ]
     },
     "metadata": {},
     "output_type": "display_data"
    }
   ],
   "source": [
    "from pyspark.sql import SparkSession\n",
    "from pyspark.sql.functions import col, count"
   ]
  },
  {
   "cell_type": "code",
   "execution_count": 4,
   "id": "5e47886e-fa8b-4133-a460-cb2f723dfc6f",
   "metadata": {
    "execution": {
     "iopub.execute_input": "2025-03-29T19:27:04.328267Z",
     "iopub.status.busy": "2025-03-29T19:27:04.327859Z",
     "iopub.status.idle": "2025-03-29T19:27:32.399580Z",
     "shell.execute_reply": "2025-03-29T19:27:32.398758Z",
     "shell.execute_reply.started": "2025-03-29T19:27:04.328227Z"
    },
    "tags": []
   },
   "outputs": [],
   "source": [
    "%%capture\n",
    "%%bash\n",
    "wget -O - https://redfin-public-data.s3.us-west-2.amazonaws.com/redfin_market_tracker/city_market_tracker.tsv000.gz | aws s3 cp - s3://redfin-source-raw-data-emr/city_market_tracker.tsv000.gz"
   ]
  },
  {
   "cell_type": "code",
   "execution_count": 5,
   "id": "3bc941e2-0988-438d-8478-cdc7ffe6fb0c",
   "metadata": {
    "execution": {
     "iopub.execute_input": "2025-03-29T19:29:16.743353Z",
     "iopub.status.busy": "2025-03-29T19:29:16.743043Z",
     "iopub.status.idle": "2025-03-29T19:29:16.807119Z",
     "shell.execute_reply": "2025-03-29T19:29:16.806374Z",
     "shell.execute_reply.started": "2025-03-29T19:29:16.743326Z"
    }
   },
   "outputs": [
    {
     "data": {
      "application/vnd.jupyter.widget-view+json": {
       "model_id": "db05c4ea9e8f41f491eed23043dd8808",
       "version_major": 2,
       "version_minor": 0
      },
      "text/plain": [
       "VBox()"
      ]
     },
     "metadata": {},
     "output_type": "display_data"
    },
    {
     "data": {
      "application/vnd.jupyter.widget-view+json": {
       "model_id": "",
       "version_major": 2,
       "version_minor": 0
      },
      "text/plain": [
       "FloatProgress(value=0.0, bar_style='info', description='Progress:', layout=Layout(height='25px', width='50%'),…"
      ]
     },
     "metadata": {},
     "output_type": "display_data"
    }
   ],
   "source": [
    "spark = (\n",
    "    SparkSession\n",
    "    .builder\n",
    "    .appName('Redfin-BigData-Analysis')\n",
    "    .getOrCreate()\n",
    ")"
   ]
  },
  {
   "cell_type": "code",
   "execution_count": 7,
   "id": "1741bd8a-9097-4642-aadb-57d6b451a01a",
   "metadata": {
    "execution": {
     "iopub.execute_input": "2025-03-29T19:31:18.025274Z",
     "iopub.status.busy": "2025-03-29T19:31:18.024976Z",
     "iopub.status.idle": "2025-03-29T19:33:41.830923Z",
     "shell.execute_reply": "2025-03-29T19:33:41.830195Z",
     "shell.execute_reply.started": "2025-03-29T19:31:18.025249Z"
    },
    "tags": []
   },
   "outputs": [
    {
     "data": {
      "application/vnd.jupyter.widget-view+json": {
       "model_id": "b0ebf4515c364552bed2d25102a97c9c",
       "version_major": 2,
       "version_minor": 0
      },
      "text/plain": [
       "VBox()"
      ]
     },
     "metadata": {},
     "output_type": "display_data"
    },
    {
     "data": {
      "application/vnd.jupyter.widget-view+json": {
       "model_id": "",
       "version_major": 2,
       "version_minor": 0
      },
      "text/plain": [
       "FloatProgress(value=0.0, bar_style='info', description='Progress:', layout=Layout(height='25px', width='50%'),…"
      ]
     },
     "metadata": {},
     "output_type": "display_data"
    }
   ],
   "source": [
    "redfin_data = spark.read.csv('s3://redfin-source-raw-data-emr/city_market_tracker.tsv000.gz', \n",
    "                              sep='\\t', header=True, inferSchema=True)"
   ]
  },
  {
   "cell_type": "code",
   "execution_count": 8,
   "id": "7cff79bc-a50f-4164-a60e-14f461668365",
   "metadata": {
    "execution": {
     "iopub.execute_input": "2025-03-29T19:34:02.517760Z",
     "iopub.status.busy": "2025-03-29T19:34:02.517456Z",
     "iopub.status.idle": "2025-03-29T19:34:03.787682Z",
     "shell.execute_reply": "2025-03-29T19:34:03.786773Z",
     "shell.execute_reply.started": "2025-03-29T19:34:02.517735Z"
    }
   },
   "outputs": [
    {
     "data": {
      "application/vnd.jupyter.widget-view+json": {
       "model_id": "a0c3d20bea2c418589b83fe6fb121d14",
       "version_major": 2,
       "version_minor": 0
      },
      "text/plain": [
       "VBox()"
      ]
     },
     "metadata": {},
     "output_type": "display_data"
    },
    {
     "data": {
      "application/vnd.jupyter.widget-view+json": {
       "model_id": "",
       "version_major": 2,
       "version_minor": 0
      },
      "text/plain": [
       "FloatProgress(value=0.0, bar_style='info', description='Progress:', layout=Layout(height='25px', width='50%'),…"
      ]
     },
     "metadata": {},
     "output_type": "display_data"
    },
    {
     "name": "stdout",
     "output_type": "stream",
     "text": [
      "+------------+----------+---------------+-----------+--------------+--------+----------------------+------------+--------+---------+----------+--------------------+----------------+-----------------+---------------------+---------------------+-----------------+---------------------+---------------------+------------------+--------------------+-------------------+------------------+--------------------+--------------------+----------+--------------------+--------------------+-------------+--------------------+--------------------+------------+-------------------+-------------------+---------+--------------------+--------------------+----------------+--------------------+--------------------+----------+--------------+--------------+------------------+--------------------+--------------------+-------------------+--------------------+--------------------+-------------------+--------------------+--------------------+-----------------------+---------------------------+---------------------------+-------------------+------------------------------+-------------------+\n",
      "|period_begin|period_end|period_duration|region_type|region_type_id|table_id|is_seasonally_adjusted|      region|    city|    state|state_code|       property_type|property_type_id|median_sale_price|median_sale_price_mom|median_sale_price_yoy|median_list_price|median_list_price_mom|median_list_price_yoy|       median_ppsf|     median_ppsf_mom|    median_ppsf_yoy|  median_list_ppsf|median_list_ppsf_mom|median_list_ppsf_yoy|homes_sold|      homes_sold_mom|      homes_sold_yoy|pending_sales|   pending_sales_mom|   pending_sales_yoy|new_listings|   new_listings_mom|   new_listings_yoy|inventory|       inventory_mom|       inventory_yoy|months_of_supply|months_of_supply_mom|months_of_supply_yoy|median_dom|median_dom_mom|median_dom_yoy|  avg_sale_to_list|avg_sale_to_list_mom|avg_sale_to_list_yoy|    sold_above_list| sold_above_list_mom| sold_above_list_yoy|        price_drops|     price_drops_mom|     price_drops_yoy|off_market_in_two_weeks|off_market_in_two_weeks_mom|off_market_in_two_weeks_yoy|parent_metro_region|parent_metro_region_metro_code|       last_updated|\n",
      "+------------+----------+---------------+-----------+--------------+--------+----------------------+------------+--------+---------+----------+--------------------+----------------+-----------------+---------------------+---------------------+-----------------+---------------------+---------------------+------------------+--------------------+-------------------+------------------+--------------------+--------------------+----------+--------------------+--------------------+-------------+--------------------+--------------------+------------+-------------------+-------------------+---------+--------------------+--------------------+----------------+--------------------+--------------------+----------+--------------+--------------+------------------+--------------------+--------------------+-------------------+--------------------+--------------------+-------------------+--------------------+--------------------+-----------------------+---------------------------+---------------------------+-------------------+------------------------------+-------------------+\n",
      "|  2016-09-01|2016-09-30|             30|      place|             6|   19944|                     f|Waukegan, IL|Waukegan| Illinois|        IL|Multi-Family (2-4...|               4|         100000.0|  -0.3127147766323024|   1.1052631578947367|         130800.0|   0.1373913043478261|  0.30865432716358177| 47.20620366179577|-0.14092936562509695| 0.9182696326452324| 95.07658643326039| 0.13143473685735363| 0.27803965393219143|         4|-0.33333333333333337| 0.33333333333333326|            5|-0.16666666666666663|-0.16666666666666663|           5|             -0.375|               -0.5|       20|-0.09090909090909094| -0.2857142857142857|             5.0|  1.2999999999999998|  -4.300000000000001|        55|            39|          -228|1.1111756852918888| 0.13212021536568497| 0.16709829037081858|               0.25|-0.08333333333333331|                0.25|                0.2|  0.1090909090909091|0.021428571428571436|                    0.0|        -0.3333333333333333|                       -0.5|    Lake County, IL|                         29404|2025-03-10 14:20:36|\n",
      "|  2019-03-01|2019-03-31|             30|      place|             6|   18453|                     f|Zumbrota, MN|Zumbrota|Minnesota|        MN|Single Family Res...|               6|         233500.0|  -0.1875434933890049|   0.2390554523746351|         204900.0|                  0.0|  -0.1277139208173691|142.08238592397709|-0.01224562603999...|0.31586756225684076|  94.8292220113852| -0.3374944763588157|-0.16161985125404021|         4|                 3.0|                 0.0|            6| 0.19999999999999996| 0.19999999999999996|           3|               -0.5|               -0.4|       13|                 0.0| 0.08333333333333326|             3.3|                -9.7|  0.2999999999999998|        80|            59|            59|1.0066729083871149|0.015296571719298435|0.010593946786249475|               0.25|                0.25|                0.25|               null|                null|                null|                    0.5|                        0.3|                        0.5|       Red Wing, MN|                         39860|2025-03-10 14:20:36|\n",
      "|  2015-08-01|2015-08-31|             30|      place|             6|   16347|                     f|Poquoson, VA|Poquoson| Virginia|        VA|Single Family Res...|               6|         345000.0|    0.554054054054054|   0.3799999999999999|         372450.0|   0.1288073950598576|   0.2456521739130435|131.69972941228588|-0.08578437832971564|0.06395260517836854|139.71686836993874| 0.10617493837430891| 0.14587237183956692|        14|  0.2727272727272727|-0.17647058823529416|           10|-0.33333333333333337| 0.11111111111111116|           8|-0.6666666666666667|-0.6521739130434783|       79|-0.08139534883720934|0.025974025974025983|             5.6|                -2.2|  1.0999999999999996|        73|            18|           -60|0.9570021269020247|-0.02915813700388...|-0.02054370737271...|0.14285714285714285| 0.05194805194805194|-0.03361344537815128|0.24050632911392406|0.031204003532528696|-0.03222094361334865|                    0.0|                        0.0|                        0.0| Virginia Beach, VA|                         47260|2025-03-10 14:20:36|\n",
      "+------------+----------+---------------+-----------+--------------+--------+----------------------+------------+--------+---------+----------+--------------------+----------------+-----------------+---------------------+---------------------+-----------------+---------------------+---------------------+------------------+--------------------+-------------------+------------------+--------------------+--------------------+----------+--------------------+--------------------+-------------+--------------------+--------------------+------------+-------------------+-------------------+---------+--------------------+--------------------+----------------+--------------------+--------------------+----------+--------------+--------------+------------------+--------------------+--------------------+-------------------+--------------------+--------------------+-------------------+--------------------+--------------------+-----------------------+---------------------------+---------------------------+-------------------+------------------------------+-------------------+\n",
      "only showing top 3 rows"
     ]
    }
   ],
   "source": [
    "redfin_data.show(3)"
   ]
  },
  {
   "cell_type": "code",
   "execution_count": 9,
   "id": "d6ed68e8-a123-4abe-bbb8-eeaea7fe2925",
   "metadata": {
    "execution": {
     "iopub.execute_input": "2025-03-29T19:35:13.769006Z",
     "iopub.status.busy": "2025-03-29T19:35:13.768702Z",
     "iopub.status.idle": "2025-03-29T19:35:13.819884Z",
     "shell.execute_reply": "2025-03-29T19:35:13.819086Z",
     "shell.execute_reply.started": "2025-03-29T19:35:13.768980Z"
    }
   },
   "outputs": [
    {
     "data": {
      "application/vnd.jupyter.widget-view+json": {
       "model_id": "0065728de38e43f8ba81f3623934b43b",
       "version_major": 2,
       "version_minor": 0
      },
      "text/plain": [
       "VBox()"
      ]
     },
     "metadata": {},
     "output_type": "display_data"
    },
    {
     "data": {
      "application/vnd.jupyter.widget-view+json": {
       "model_id": "",
       "version_major": 2,
       "version_minor": 0
      },
      "text/plain": [
       "FloatProgress(value=0.0, bar_style='info', description='Progress:', layout=Layout(height='25px', width='50%'),…"
      ]
     },
     "metadata": {},
     "output_type": "display_data"
    },
    {
     "name": "stdout",
     "output_type": "stream",
     "text": [
      "root\n",
      " |-- period_begin: date (nullable = true)\n",
      " |-- period_end: date (nullable = true)\n",
      " |-- period_duration: integer (nullable = true)\n",
      " |-- region_type: string (nullable = true)\n",
      " |-- region_type_id: integer (nullable = true)\n",
      " |-- table_id: integer (nullable = true)\n",
      " |-- is_seasonally_adjusted: string (nullable = true)\n",
      " |-- region: string (nullable = true)\n",
      " |-- city: string (nullable = true)\n",
      " |-- state: string (nullable = true)\n",
      " |-- state_code: string (nullable = true)\n",
      " |-- property_type: string (nullable = true)\n",
      " |-- property_type_id: integer (nullable = true)\n",
      " |-- median_sale_price: double (nullable = true)\n",
      " |-- median_sale_price_mom: double (nullable = true)\n",
      " |-- median_sale_price_yoy: double (nullable = true)\n",
      " |-- median_list_price: double (nullable = true)\n",
      " |-- median_list_price_mom: double (nullable = true)\n",
      " |-- median_list_price_yoy: double (nullable = true)\n",
      " |-- median_ppsf: double (nullable = true)\n",
      " |-- median_ppsf_mom: double (nullable = true)\n",
      " |-- median_ppsf_yoy: double (nullable = true)\n",
      " |-- median_list_ppsf: double (nullable = true)\n",
      " |-- median_list_ppsf_mom: double (nullable = true)\n",
      " |-- median_list_ppsf_yoy: double (nullable = true)\n",
      " |-- homes_sold: integer (nullable = true)\n",
      " |-- homes_sold_mom: double (nullable = true)\n",
      " |-- homes_sold_yoy: double (nullable = true)\n",
      " |-- pending_sales: integer (nullable = true)\n",
      " |-- pending_sales_mom: double (nullable = true)\n",
      " |-- pending_sales_yoy: double (nullable = true)\n",
      " |-- new_listings: integer (nullable = true)\n",
      " |-- new_listings_mom: double (nullable = true)\n",
      " |-- new_listings_yoy: double (nullable = true)\n",
      " |-- inventory: integer (nullable = true)\n",
      " |-- inventory_mom: double (nullable = true)\n",
      " |-- inventory_yoy: double (nullable = true)\n",
      " |-- months_of_supply: double (nullable = true)\n",
      " |-- months_of_supply_mom: double (nullable = true)\n",
      " |-- months_of_supply_yoy: double (nullable = true)\n",
      " |-- median_dom: integer (nullable = true)\n",
      " |-- median_dom_mom: integer (nullable = true)\n",
      " |-- median_dom_yoy: integer (nullable = true)\n",
      " |-- avg_sale_to_list: double (nullable = true)\n",
      " |-- avg_sale_to_list_mom: double (nullable = true)\n",
      " |-- avg_sale_to_list_yoy: double (nullable = true)\n",
      " |-- sold_above_list: double (nullable = true)\n",
      " |-- sold_above_list_mom: double (nullable = true)\n",
      " |-- sold_above_list_yoy: double (nullable = true)\n",
      " |-- price_drops: double (nullable = true)\n",
      " |-- price_drops_mom: double (nullable = true)\n",
      " |-- price_drops_yoy: double (nullable = true)\n",
      " |-- off_market_in_two_weeks: double (nullable = true)\n",
      " |-- off_market_in_two_weeks_mom: double (nullable = true)\n",
      " |-- off_market_in_two_weeks_yoy: double (nullable = true)\n",
      " |-- parent_metro_region: string (nullable = true)\n",
      " |-- parent_metro_region_metro_code: integer (nullable = true)\n",
      " |-- last_updated: timestamp (nullable = true)"
     ]
    }
   ],
   "source": [
    "redfin_data.printSchema()"
   ]
  },
  {
   "cell_type": "code",
   "execution_count": 10,
   "id": "1eb28646-8588-44ea-a808-2b6502a2cee7",
   "metadata": {
    "execution": {
     "iopub.execute_input": "2025-03-29T19:36:15.242177Z",
     "iopub.status.busy": "2025-03-29T19:36:15.241834Z",
     "iopub.status.idle": "2025-03-29T19:36:58.653930Z",
     "shell.execute_reply": "2025-03-29T19:36:58.653096Z",
     "shell.execute_reply.started": "2025-03-29T19:36:15.242149Z"
    }
   },
   "outputs": [
    {
     "data": {
      "application/vnd.jupyter.widget-view+json": {
       "model_id": "91061c352f314bdd8832a8a0770517fb",
       "version_major": 2,
       "version_minor": 0
      },
      "text/plain": [
       "VBox()"
      ]
     },
     "metadata": {},
     "output_type": "display_data"
    },
    {
     "data": {
      "application/vnd.jupyter.widget-view+json": {
       "model_id": "",
       "version_major": 2,
       "version_minor": 0
      },
      "text/plain": [
       "FloatProgress(value=0.0, bar_style='info', description='Progress:', layout=Layout(height='25px', width='50%'),…"
      ]
     },
     "metadata": {},
     "output_type": "display_data"
    },
    {
     "name": "stdout",
     "output_type": "stream",
     "text": [
      "5779946"
     ]
    }
   ],
   "source": [
    "# Total Records\n",
    "\n",
    "redfin_data.count()"
   ]
  },
  {
   "cell_type": "code",
   "execution_count": 11,
   "id": "63304f7d-1052-4e70-adfa-dcee5220cbce",
   "metadata": {
    "execution": {
     "iopub.execute_input": "2025-03-29T19:37:25.151848Z",
     "iopub.status.busy": "2025-03-29T19:37:25.151543Z",
     "iopub.status.idle": "2025-03-29T19:37:25.917042Z",
     "shell.execute_reply": "2025-03-29T19:37:25.916154Z",
     "shell.execute_reply.started": "2025-03-29T19:37:25.151822Z"
    }
   },
   "outputs": [
    {
     "data": {
      "application/vnd.jupyter.widget-view+json": {
       "model_id": "76984dec3c58492f81ff4ae85928a9a6",
       "version_major": 2,
       "version_minor": 0
      },
      "text/plain": [
       "VBox()"
      ]
     },
     "metadata": {},
     "output_type": "display_data"
    },
    {
     "data": {
      "application/vnd.jupyter.widget-view+json": {
       "model_id": "",
       "version_major": 2,
       "version_minor": 0
      },
      "text/plain": [
       "FloatProgress(value=0.0, bar_style='info', description='Progress:', layout=Layout(height='25px', width='50%'),…"
      ]
     },
     "metadata": {},
     "output_type": "display_data"
    },
    {
     "name": "stdout",
     "output_type": "stream",
     "text": [
      "+----------+---------------+--------+---------+--------------------+-----------------+------------------+----------+---------+----------------+----------+-------------------+-------------------+\n",
      "|period_end|period_duration|    city|    state|       property_type|median_sale_price|       median_ppsf|homes_sold|inventory|months_of_supply|median_dom|    sold_above_list|       last_updated|\n",
      "+----------+---------------+--------+---------+--------------------+-----------------+------------------+----------+---------+----------------+----------+-------------------+-------------------+\n",
      "|2016-09-30|             30|Waukegan| Illinois|Multi-Family (2-4...|         100000.0| 47.20620366179577|         4|       20|             5.0|        55|               0.25|2025-03-10 14:20:36|\n",
      "|2019-03-31|             30|Zumbrota|Minnesota|Single Family Res...|         233500.0|142.08238592397709|         4|       13|             3.3|        80|               0.25|2025-03-10 14:20:36|\n",
      "|2015-08-31|             30|Poquoson| Virginia|Single Family Res...|         345000.0|131.69972941228588|        14|       79|             5.6|        73|0.14285714285714285|2025-03-10 14:20:36|\n",
      "+----------+---------------+--------+---------+--------------------+-----------------+------------------+----------+---------+----------------+----------+-------------------+-------------------+\n",
      "only showing top 3 rows"
     ]
    }
   ],
   "source": [
    "df_redfin = redfin_data.select('period_end','period_duration', 'city', 'state', 'property_type',\n",
    "    'median_sale_price', 'median_ppsf', 'homes_sold', 'inventory', 'months_of_supply', 'median_dom', 'sold_above_list', 'last_updated')\n",
    "df_redfin.show(3)"
   ]
  },
  {
   "cell_type": "code",
   "execution_count": 18,
   "id": "916ca24f-9b23-43e0-a154-220bdb0fec50",
   "metadata": {
    "execution": {
     "iopub.execute_input": "2025-03-29T20:00:17.855880Z",
     "iopub.status.busy": "2025-03-29T20:00:17.855577Z",
     "iopub.status.idle": "2025-03-29T20:01:39.352836Z",
     "shell.execute_reply": "2025-03-29T20:01:39.351970Z",
     "shell.execute_reply.started": "2025-03-29T20:00:17.855853Z"
    },
    "tags": []
   },
   "outputs": [
    {
     "data": {
      "application/vnd.jupyter.widget-view+json": {
       "model_id": "32453db9390949399882447580fd723f",
       "version_major": 2,
       "version_minor": 0
      },
      "text/plain": [
       "VBox()"
      ]
     },
     "metadata": {},
     "output_type": "display_data"
    },
    {
     "data": {
      "application/vnd.jupyter.widget-view+json": {
       "model_id": "",
       "version_major": 2,
       "version_minor": 0
      },
      "text/plain": [
       "FloatProgress(value=0.0, bar_style='info', description='Progress:', layout=Layout(height='25px', width='50%'),…"
      ]
     },
     "metadata": {},
     "output_type": "display_data"
    },
    {
     "name": "stdout",
     "output_type": "stream",
     "text": [
      "Total Rows: 5214363"
     ]
    }
   ],
   "source": [
    "from pyspark.sql.functions import isnull\n",
    "\n",
    "df_redfin = df_redfin.na.drop()\n",
    "\n",
    "print('Total Rows:', df_redfin.count())"
   ]
  },
  {
   "cell_type": "code",
   "execution_count": 19,
   "id": "337885cf-77c3-4005-a19b-64c363e9ea8e",
   "metadata": {
    "execution": {
     "iopub.execute_input": "2025-03-29T20:02:17.592418Z",
     "iopub.status.busy": "2025-03-29T20:02:17.592121Z",
     "iopub.status.idle": "2025-03-29T20:03:31.050375Z",
     "shell.execute_reply": "2025-03-29T20:03:31.049491Z",
     "shell.execute_reply.started": "2025-03-29T20:02:17.592394Z"
    },
    "tags": []
   },
   "outputs": [
    {
     "data": {
      "application/vnd.jupyter.widget-view+json": {
       "model_id": "c307c36c991f48d5aa43f45b41d802c4",
       "version_major": 2,
       "version_minor": 0
      },
      "text/plain": [
       "VBox()"
      ]
     },
     "metadata": {},
     "output_type": "display_data"
    },
    {
     "data": {
      "application/vnd.jupyter.widget-view+json": {
       "model_id": "",
       "version_major": 2,
       "version_minor": 0
      },
      "text/plain": [
       "FloatProgress(value=0.0, bar_style='info', description='Progress:', layout=Layout(height='25px', width='50%'),…"
      ]
     },
     "metadata": {},
     "output_type": "display_data"
    },
    {
     "name": "stdout",
     "output_type": "stream",
     "text": [
      "+-------------+---------------------+\n",
      "|        state|Avg_Median_Sale_Price|\n",
      "+-------------+---------------------+\n",
      "|       Hawaii|    741692.0023227786|\n",
      "|      Wyoming|    693313.1335917313|\n",
      "|   California|     666470.179381025|\n",
      "|     Columbia|    645509.8759493671|\n",
      "|     Colorado|   521543.37136866484|\n",
      "|Massachusetts|    456342.8571943437|\n",
      "|  Connecticut|    434241.7186949657|\n",
      "|   Washington|   433656.33993819304|\n",
      "|       Nevada|    430992.2907547092|\n",
      "|   New Jersey|    408715.8338951671|\n",
      "|         Utah|   393817.37809755874|\n",
      "| Rhode Island|    385144.0207027047|\n",
      "|      Montana|   383349.92446642375|\n",
      "|     Virginia|    372218.5157306554|\n",
      "|     New York|   351016.09363502526|\n",
      "|     Maryland|   349141.28027003625|\n",
      "|       Oregon|   341514.35884725256|\n",
      "|   New Mexico|    326561.0066881403|\n",
      "|      Florida|    325276.8669064219|\n",
      "|        Idaho|    322185.6420338353|\n",
      "+-------------+---------------------+\n",
      "only showing top 20 rows"
     ]
    }
   ],
   "source": [
    "from pyspark.sql.functions import avg, col\n",
    "\n",
    "df_redfin.groupBy('state') \\\n",
    "    .agg(avg(col('median_sale_price')).alias('Avg_Median_Sale_Price')) \\\n",
    "    .orderBy(col('Avg_Median_Sale_Price').desc()) \\\n",
    "    .show()"
   ]
  },
  {
   "cell_type": "markdown",
   "id": "4a87081f-e3f4-4db6-aebf-8f2e1a81b15d",
   "metadata": {
    "execution": {
     "iopub.execute_input": "2025-03-29T19:57:48.438010Z",
     "iopub.status.busy": "2025-03-29T19:57:48.437707Z",
     "iopub.status.idle": "2025-03-29T19:57:48.489012Z",
     "shell.execute_reply": "2025-03-29T19:57:48.487652Z",
     "shell.execute_reply.started": "2025-03-29T19:57:48.437983Z"
    },
    "tags": []
   },
   "source": [
    "\n",
    "### 🔹 1. **Trend in Median Sale Price by State Over Time**\n",
    "> For each state, calculate the average median sale price **per year**, and order by year and descending price within each year.\n",
    "\n"
   ]
  },
  {
   "cell_type": "code",
   "execution_count": 20,
   "id": "2b4a5459-0c1c-48f7-9356-1d72f3bf2711",
   "metadata": {
    "execution": {
     "iopub.execute_input": "2025-03-29T20:03:58.696089Z",
     "iopub.status.busy": "2025-03-29T20:03:58.695797Z",
     "iopub.status.idle": "2025-03-29T20:03:58.740954Z",
     "shell.execute_reply": "2025-03-29T20:03:58.740082Z",
     "shell.execute_reply.started": "2025-03-29T20:03:58.696065Z"
    }
   },
   "outputs": [
    {
     "data": {
      "application/vnd.jupyter.widget-view+json": {
       "model_id": "ae2b6ca8a1d142b0bb9864231927d2de",
       "version_major": 2,
       "version_minor": 0
      },
      "text/plain": [
       "VBox()"
      ]
     },
     "metadata": {},
     "output_type": "display_data"
    },
    {
     "data": {
      "application/vnd.jupyter.widget-view+json": {
       "model_id": "",
       "version_major": 2,
       "version_minor": 0
      },
      "text/plain": [
       "FloatProgress(value=0.0, bar_style='info', description='Progress:', layout=Layout(height='25px', width='50%'),…"
      ]
     },
     "metadata": {},
     "output_type": "display_data"
    },
    {
     "name": "stdout",
     "output_type": "stream",
     "text": [
      "root\n",
      " |-- period_end: date (nullable = true)\n",
      " |-- period_duration: integer (nullable = true)\n",
      " |-- city: string (nullable = true)\n",
      " |-- state: string (nullable = true)\n",
      " |-- property_type: string (nullable = true)\n",
      " |-- median_sale_price: double (nullable = true)\n",
      " |-- median_ppsf: double (nullable = true)\n",
      " |-- homes_sold: integer (nullable = true)\n",
      " |-- inventory: integer (nullable = true)\n",
      " |-- months_of_supply: double (nullable = true)\n",
      " |-- median_dom: integer (nullable = true)\n",
      " |-- sold_above_list: double (nullable = true)\n",
      " |-- last_updated: timestamp (nullable = true)"
     ]
    }
   ],
   "source": [
    "df_redfin.printSchema()"
   ]
  },
  {
   "cell_type": "code",
   "execution_count": 21,
   "id": "148f637e-b616-48ab-a905-09d7f8301b1f",
   "metadata": {
    "execution": {
     "iopub.execute_input": "2025-03-29T20:06:24.160202Z",
     "iopub.status.busy": "2025-03-29T20:06:24.159798Z",
     "iopub.status.idle": "2025-03-29T20:06:24.230864Z",
     "shell.execute_reply": "2025-03-29T20:06:24.229341Z",
     "shell.execute_reply.started": "2025-03-29T20:06:24.160173Z"
    }
   },
   "outputs": [
    {
     "data": {
      "application/vnd.jupyter.widget-view+json": {
       "model_id": "30577164179248289d4340e2e3174fb8",
       "version_major": 2,
       "version_minor": 0
      },
      "text/plain": [
       "VBox()"
      ]
     },
     "metadata": {},
     "output_type": "display_data"
    },
    {
     "data": {
      "application/vnd.jupyter.widget-view+json": {
       "model_id": "",
       "version_major": 2,
       "version_minor": 0
      },
      "text/plain": [
       "FloatProgress(value=0.0, bar_style='info', description='Progress:', layout=Layout(height='25px', width='50%'),…"
      ]
     },
     "metadata": {},
     "output_type": "display_data"
    }
   ],
   "source": [
    "from pyspark.sql.functions import *\n",
    "\n",
    "df_redfin = df_redfin.withColumn('Period_End_Year' , year(col('period_end')))"
   ]
  },
  {
   "cell_type": "code",
   "execution_count": 22,
   "id": "5ddc8e62-6668-407c-93c0-298d449f273e",
   "metadata": {
    "execution": {
     "iopub.execute_input": "2025-03-29T20:06:48.377865Z",
     "iopub.status.busy": "2025-03-29T20:06:48.377567Z",
     "iopub.status.idle": "2025-03-29T20:06:57.662234Z",
     "shell.execute_reply": "2025-03-29T20:06:57.661452Z",
     "shell.execute_reply.started": "2025-03-29T20:06:48.377840Z"
    }
   },
   "outputs": [
    {
     "data": {
      "application/vnd.jupyter.widget-view+json": {
       "model_id": "48e8150d3aa340e0a43cfcb927e630ee",
       "version_major": 2,
       "version_minor": 0
      },
      "text/plain": [
       "VBox()"
      ]
     },
     "metadata": {},
     "output_type": "display_data"
    },
    {
     "data": {
      "application/vnd.jupyter.widget-view+json": {
       "model_id": "",
       "version_major": 2,
       "version_minor": 0
      },
      "text/plain": [
       "FloatProgress(value=0.0, bar_style='info', description='Progress:', layout=Layout(height='25px', width='50%'),…"
      ]
     },
     "metadata": {},
     "output_type": "display_data"
    },
    {
     "name": "stdout",
     "output_type": "stream",
     "text": [
      "+----------+---------------+--------+---------+--------------------+-----------------+------------------+----------+---------+----------------+----------+-------------------+-------------------+---------------+\n",
      "|period_end|period_duration|    city|    state|       property_type|median_sale_price|       median_ppsf|homes_sold|inventory|months_of_supply|median_dom|    sold_above_list|       last_updated|Period_End_Year|\n",
      "+----------+---------------+--------+---------+--------------------+-----------------+------------------+----------+---------+----------------+----------+-------------------+-------------------+---------------+\n",
      "|2016-09-30|             30|Waukegan| Illinois|Multi-Family (2-4...|         100000.0| 47.20620366179577|         4|       20|             5.0|        55|               0.25|2025-03-10 14:20:36|           2016|\n",
      "|2019-03-31|             30|Zumbrota|Minnesota|Single Family Res...|         233500.0|142.08238592397709|         4|       13|             3.3|        80|               0.25|2025-03-10 14:20:36|           2019|\n",
      "|2015-08-31|             30|Poquoson| Virginia|Single Family Res...|         345000.0|131.69972941228588|        14|       79|             5.6|        73|0.14285714285714285|2025-03-10 14:20:36|           2015|\n",
      "+----------+---------------+--------+---------+--------------------+-----------------+------------------+----------+---------+----------------+----------+-------------------+-------------------+---------------+\n",
      "only showing top 3 rows"
     ]
    }
   ],
   "source": [
    "df_redfin.show(3)"
   ]
  },
  {
   "cell_type": "code",
   "execution_count": 25,
   "id": "e089434d-8d8c-4c75-ba11-0cb0dfcaefc5",
   "metadata": {
    "execution": {
     "iopub.execute_input": "2025-03-29T20:09:43.534008Z",
     "iopub.status.busy": "2025-03-29T20:09:43.533709Z",
     "iopub.status.idle": "2025-03-29T20:11:05.003586Z",
     "shell.execute_reply": "2025-03-29T20:11:05.002728Z",
     "shell.execute_reply.started": "2025-03-29T20:09:43.533982Z"
    },
    "tags": []
   },
   "outputs": [
    {
     "data": {
      "application/vnd.jupyter.widget-view+json": {
       "model_id": "9a31d2aae0634a5bbea06ece0b08c447",
       "version_major": 2,
       "version_minor": 0
      },
      "text/plain": [
       "VBox()"
      ]
     },
     "metadata": {},
     "output_type": "display_data"
    },
    {
     "data": {
      "application/vnd.jupyter.widget-view+json": {
       "model_id": "",
       "version_major": 2,
       "version_minor": 0
      },
      "text/plain": [
       "FloatProgress(value=0.0, bar_style='info', description='Progress:', layout=Layout(height='25px', width='50%'),…"
      ]
     },
     "metadata": {},
     "output_type": "display_data"
    },
    {
     "name": "stdout",
     "output_type": "stream",
     "text": [
      "+---------------+-------------+---------------------+\n",
      "|Period_End_Year|        state|Avg_Median_Sale_Price|\n",
      "+---------------+-------------+---------------------+\n",
      "|           2025|      Wyoming|            1248825.0|\n",
      "|           2025|       Hawaii|   1103347.5338983051|\n",
      "|           2025|   California|    934876.8782513005|\n",
      "|           2025|     Colorado|    819017.2590132827|\n",
      "|           2025|     Columbia|             783150.0|\n",
      "|           2025| Rhode Island|    730738.0246710526|\n",
      "|           2025|  Connecticut|    695182.4123252858|\n",
      "|           2025|Massachusetts|    693781.5480811645|\n",
      "|           2025|      Montana|    679236.4177777778|\n",
      "|           2025|   Washington|    672967.3835145965|\n",
      "|           2025|   New Jersey|    649736.1395899054|\n",
      "|           2025|       Nevada|        643174.828125|\n",
      "|           2025|         Utah|    638767.5775434243|\n",
      "|           2025|      Florida|    558387.6501511979|\n",
      "|           2025|     New York|    547379.9712338262|\n",
      "|           2025|        Idaho|    531812.9444444445|\n",
      "|           2025|     Virginia|    511718.9918140144|\n",
      "|           2025|       Oregon|   507070.13171487604|\n",
      "|           2025|   New Mexico|   494880.36724137934|\n",
      "|           2025|      Vermont|    484318.0693069307|\n",
      "+---------------+-------------+---------------------+\n",
      "only showing top 20 rows"
     ]
    }
   ],
   "source": [
    "df_redfin.groupBy('Period_End_Year', 'state').agg(avg(col('median_sale_price')).alias('Avg_Median_Sale_Price')).orderBy(col('Period_End_Year').desc(), col('Avg_Median_Sale_Price').desc()).show()"
   ]
  },
  {
   "cell_type": "markdown",
   "id": "db35ad80-bc37-4b63-8711-bcb86ee315af",
   "metadata": {
    "execution": {
     "iopub.execute_input": "2025-03-29T20:12:11.902129Z",
     "iopub.status.busy": "2025-03-29T20:12:11.901799Z",
     "iopub.status.idle": "2025-03-29T20:12:11.943745Z",
     "shell.execute_reply": "2025-03-29T20:12:11.943099Z",
     "shell.execute_reply.started": "2025-03-29T20:12:11.902101Z"
    }
   },
   "source": [
    "### 🔹 2. **Top 3 Cities per State by Average Price per Square Foot**\n",
    "> For each state, find the top 3 cities with the highest **average median_ppsf** (price per square foot).\n"
   ]
  },
  {
   "cell_type": "code",
   "execution_count": 31,
   "id": "0643c2de-8d4c-4adb-9832-bed4af6427a8",
   "metadata": {
    "execution": {
     "iopub.execute_input": "2025-03-29T20:29:01.692157Z",
     "iopub.status.busy": "2025-03-29T20:29:01.691853Z",
     "iopub.status.idle": "2025-03-29T20:30:25.186015Z",
     "shell.execute_reply": "2025-03-29T20:30:25.185120Z",
     "shell.execute_reply.started": "2025-03-29T20:29:01.692133Z"
    },
    "tags": []
   },
   "outputs": [
    {
     "data": {
      "application/vnd.jupyter.widget-view+json": {
       "model_id": "dc76b7b8760340c7943ad36083af0c52",
       "version_major": 2,
       "version_minor": 0
      },
      "text/plain": [
       "VBox()"
      ]
     },
     "metadata": {},
     "output_type": "display_data"
    },
    {
     "data": {
      "application/vnd.jupyter.widget-view+json": {
       "model_id": "",
       "version_major": 2,
       "version_minor": 0
      },
      "text/plain": [
       "FloatProgress(value=0.0, bar_style='info', description='Progress:', layout=Layout(height='25px', width='50%'),…"
      ]
     },
     "metadata": {},
     "output_type": "display_data"
    },
    {
     "name": "stdout",
     "output_type": "stream",
     "text": [
      "+-----------+---------------+---------------+----+\n",
      "|      state|           city|avg_median_ppsf|rank|\n",
      "+-----------+---------------+---------------+----+\n",
      "|    Alabama|   Orange Beach|         298.99|   1|\n",
      "|    Alabama| Dauphin Island|         277.35|   2|\n",
      "|    Alabama|    Point Clear|         240.45|   3|\n",
      "|     Alaska|         Salcha|        1053.95|   1|\n",
      "|     Alaska|     North Pole|         552.78|   2|\n",
      "|     Alaska|      Ketchikan|         429.57|   3|\n",
      "|    Arizona|       Show Low|         913.82|   1|\n",
      "|    Arizona|Paradise Valley|         454.71|   2|\n",
      "|    Arizona|  Martinez Lake|         426.31|   3|\n",
      "|   Arkansas|  Lake Hamilton|         178.52|   1|\n",
      "|   Arkansas|Cammack Village|         169.24|   2|\n",
      "|   Arkansas|    Bentonville|         157.58|   3|\n",
      "| California|    West Athens|        5158.64|   1|\n",
      "| California|    Terra Bella|        3403.23|   2|\n",
      "| California|San Luis Obispo|        3346.55|   3|\n",
      "|   Colorado|   Jackson Lake|        3189.19|   1|\n",
      "|   Colorado|      Fruitvale|        1822.04|   2|\n",
      "|   Colorado|          Aspen|         1580.9|   3|\n",
      "|   Columbia| Washington, DC|         421.67|   1|\n",
      "|Connecticut|        Fenwick|          890.6|   1|\n",
      "+-----------+---------------+---------------+----+\n",
      "only showing top 20 rows"
     ]
    }
   ],
   "source": [
    "from pyspark.sql.functions import avg, round, col, dense_rank\n",
    "from pyspark.sql.window import Window\n",
    "\n",
    "df_avg_ppsf = df_redfin.groupBy('state', 'city') \\\n",
    "    .agg(round(avg(col('median_ppsf')), 2).alias('avg_median_ppsf'))\n",
    "\n",
    "window_spec = Window.partitionBy('state').orderBy(col('avg_median_ppsf').desc())\n",
    "\n",
    "df_top3 = df_avg_ppsf.withColumn('rank', dense_rank().over(window_spec)) \\\n",
    "    .filter(col('rank') <= 3)\n",
    "\n",
    "\n",
    "df_top3.show()"
   ]
  },
  {
   "cell_type": "markdown",
   "id": "a06239dd-ce7e-431e-82a1-1ade1ad653c5",
   "metadata": {},
   "source": [
    "### 🔹 3. **Days on Market Analysis**\n",
    "> Find the states where the **average median days on market (median_dom)** has been **increasing over the last 3 years**.\n"
   ]
  },
  {
   "cell_type": "code",
   "execution_count": 38,
   "id": "ffbc6915-6304-4776-900c-d9c85eac4896",
   "metadata": {
    "execution": {
     "iopub.execute_input": "2025-03-29T20:48:08.831248Z",
     "iopub.status.busy": "2025-03-29T20:48:08.830947Z",
     "iopub.status.idle": "2025-03-29T20:49:58.790284Z",
     "shell.execute_reply": "2025-03-29T20:49:58.789362Z",
     "shell.execute_reply.started": "2025-03-29T20:48:08.831224Z"
    },
    "tags": []
   },
   "outputs": [
    {
     "data": {
      "application/vnd.jupyter.widget-view+json": {
       "model_id": "bc0f841a2bd24c239b395e84a1879c57",
       "version_major": 2,
       "version_minor": 0
      },
      "text/plain": [
       "VBox()"
      ]
     },
     "metadata": {},
     "output_type": "display_data"
    },
    {
     "data": {
      "application/vnd.jupyter.widget-view+json": {
       "model_id": "",
       "version_major": 2,
       "version_minor": 0
      },
      "text/plain": [
       "FloatProgress(value=0.0, bar_style='info', description='Progress:', layout=Layout(height='25px', width='50%'),…"
      ]
     },
     "metadata": {},
     "output_type": "display_data"
    },
    {
     "name": "stdout",
     "output_type": "stream",
     "text": [
      "+-------------+----------------+------------------+------------------+\n",
      "|        state|average_dom_2023|  average_dom_2024|  average_dom_2025|\n",
      "+-------------+----------------+------------------+------------------+\n",
      "|    Minnesota|           46.78| 58.58201659656701| 68.44620253164557|\n",
      "|     Oklahoma|           54.07| 64.47876356772062|  85.9400299850075|\n",
      "|     Maryland|           38.54|39.322119732320495| 53.78974956319161|\n",
      "|Massachusetts|           33.41|34.271618107873856|47.617556241729154|\n",
      "|     Kentucky|           51.09| 51.73813199536858| 78.59245742092457|\n",
      "|  Connecticut|            48.5| 49.41467211519751| 67.63532401524778|\n",
      "|       Kansas|           47.76|           52.5468| 73.58445040214477|\n",
      "|         Iowa|           66.73|  70.1921630714427| 72.44923504867872|\n",
      "|      Florida|           57.24| 73.47640282422891|  90.6624796464294|\n",
      "|       Hawaii|          153.42|156.26662580447442|196.44821092278718|\n",
      "+-------------+----------------+------------------+------------------+\n",
      "only showing top 10 rows"
     ]
    }
   ],
   "source": [
    "from pyspark.sql.functions import avg, round, col\n",
    "\n",
    "df_2023 = df_redfin.filter('Period_End_Year = 2023') \\\n",
    "    .groupBy('state') \\\n",
    "    .agg(round(avg(col('median_dom')), 2).alias('average_dom_2023'))\n",
    "\n",
    "df_2024 = df_redfin.filter('Period_End_Year = 2024') \\\n",
    "    .groupBy('state') \\\n",
    "    .agg(avg(col('median_dom')).alias('average_dom_2024'))\n",
    "\n",
    "df_2025 = df_redfin.filter('Period_End_Year = 2025') \\\n",
    "    .groupBy('state') \\\n",
    "    .agg(avg(col('median_dom')).alias('average_dom_2025'))\n",
    "\n",
    "res_df = (\n",
    "    df_2023.alias('d1')\n",
    "    .join(df_2024.alias('d2'), col('d1.state') == col('d2.state'), how='inner')\n",
    "    .join(df_2025.alias('d3'), col('d1.state') == col('d3.state'), how='inner')\n",
    "    .select(\n",
    "        col('d1.state'),\n",
    "        col('d1.average_dom_2023'),\n",
    "        col('d2.average_dom_2024'),\n",
    "        col('d3.average_dom_2025')\n",
    "    )\n",
    "    .filter(\n",
    "        (col('average_dom_2025') > col('average_dom_2024')) &\n",
    "        (col('average_dom_2024') > col('average_dom_2023'))\n",
    "    )\n",
    ")\n",
    "\n",
    "res_df.show(10)\n"
   ]
  },
  {
   "cell_type": "markdown",
   "id": "fb9a2a44-498a-4890-9f00-633bb751d875",
   "metadata": {},
   "source": [
    "\n",
    "### 🔹 4. **Months of Supply Category**\n",
    "> Create a new column categorizing the `months_of_supply` into:\n",
    "- `\"Low\"` if < 2\n",
    "- `\"Medium\"` if between 2 and 6\n",
    "- `\"High\"` if > 6\n"
   ]
  },
  {
   "cell_type": "code",
   "execution_count": 39,
   "id": "0e9d6128-f3f5-4ccd-8435-bc4334a00515",
   "metadata": {
    "execution": {
     "iopub.execute_input": "2025-03-29T20:57:45.014966Z",
     "iopub.status.busy": "2025-03-29T20:57:45.014652Z",
     "iopub.status.idle": "2025-03-29T20:57:45.261557Z",
     "shell.execute_reply": "2025-03-29T20:57:45.260744Z",
     "shell.execute_reply.started": "2025-03-29T20:57:45.014939Z"
    }
   },
   "outputs": [
    {
     "data": {
      "application/vnd.jupyter.widget-view+json": {
       "model_id": "51ef0379e78f450bb8e813df3e53b0d0",
       "version_major": 2,
       "version_minor": 0
      },
      "text/plain": [
       "VBox()"
      ]
     },
     "metadata": {},
     "output_type": "display_data"
    },
    {
     "data": {
      "application/vnd.jupyter.widget-view+json": {
       "model_id": "",
       "version_major": 2,
       "version_minor": 0
      },
      "text/plain": [
       "FloatProgress(value=0.0, bar_style='info', description='Progress:', layout=Layout(height='25px', width='50%'),…"
      ]
     },
     "metadata": {},
     "output_type": "display_data"
    }
   ],
   "source": [
    "from pyspark.sql.functions import when, col\n",
    "\n",
    "df_redfin = df_redfin.withColumn(\n",
    "    'months_of_supply_category',\n",
    "    when(col('months_of_supply') < 2, 'Low')\n",
    "    .when(col('months_of_supply') < 6, 'Medium')\n",
    "    .otherwise('High')\n",
    ")"
   ]
  },
  {
   "cell_type": "code",
   "execution_count": null,
   "id": "5f1983a2-e5d4-4d28-9ead-d869aa64bffb",
   "metadata": {
    "execution": {
     "iopub.execute_input": "2025-03-29T20:59:43.842949Z",
     "iopub.status.busy": "2025-03-29T20:59:43.842638Z"
    }
   },
   "outputs": [
    {
     "data": {
      "application/vnd.jupyter.widget-view+json": {
       "model_id": "ff7f723208074d32abeab66470ecc66f",
       "version_major": 2,
       "version_minor": 0
      },
      "text/plain": [
       "VBox()"
      ]
     },
     "metadata": {},
     "output_type": "display_data"
    },
    {
     "data": {
      "application/vnd.jupyter.widget-view+json": {
       "model_id": "cd2ff38089dc42c5bc38cc00c3dc5e2b",
       "version_major": 2,
       "version_minor": 0
      },
      "text/plain": [
       "FloatProgress(value=0.0, bar_style='info', description='Progress:', layout=Layout(height='25px', width='50%'),…"
      ]
     },
     "metadata": {},
     "output_type": "display_data"
    }
   ],
   "source": [
    "s3_bucket = 's3://redfin-transformed-data-emr/redfin-data.parquet'\n",
    "df_redfin.write.mode('overwrite').parquet(s3_bucket)"
   ]
  },
  {
   "cell_type": "code",
   "execution_count": null,
   "id": "ef7f78c5-9b89-43ad-8726-d33a1d3b9ae4",
   "metadata": {},
   "outputs": [],
   "source": []
  }
 ],
 "metadata": {
  "kernelspec": {
   "display_name": "PySpark",
   "language": "python",
   "name": "pysparkkernel"
  },
  "language_info": {
   "name": ""
  }
 },
 "nbformat": 4,
 "nbformat_minor": 5
}
